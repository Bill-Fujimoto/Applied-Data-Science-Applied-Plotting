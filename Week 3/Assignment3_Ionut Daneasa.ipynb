{
 "cells": [
  {
   "cell_type": "markdown",
   "metadata": {},
   "source": [
    "# Assignment 3 - Building a Custom Visualization\n",
    "\n",
    "---\n",
    "\n",
    "In this assignment you must choose one of the options presented below and submit a visual as well as your source code for peer grading. The details of how you solve the assignment are up to you, although your assignment must use matplotlib so that your peers can evaluate your work. The options differ in challenge level, but there are no grades associated with the challenge level you chose. However, your peers will be asked to ensure you at least met a minimum quality for a given technique in order to pass. Implement the technique fully (or exceed it!) and you should be able to earn full grades for the assignment.\n",
    "\n",
    "\n",
    "&nbsp;&nbsp;&nbsp;&nbsp;&nbsp;&nbsp;Ferreira, N., Fisher, D., & Konig, A. C. (2014, April). [Sample-oriented task-driven visualizations: allowing users to make better, more confident decisions.](https://www.microsoft.com/en-us/research/wp-content/uploads/2016/02/Ferreira_Fisher_Sample_Oriented_Tasks.pdf) \n",
    "&nbsp;&nbsp;&nbsp;&nbsp;&nbsp;&nbsp;In Proceedings of the SIGCHI Conference on Human Factors in Computing Systems (pp. 571-580). ACM. ([video](https://www.youtube.com/watch?v=BI7GAs-va-Q))\n",
    "\n",
    "\n",
    "In this [paper](https://www.microsoft.com/en-us/research/wp-content/uploads/2016/02/Ferreira_Fisher_Sample_Oriented_Tasks.pdf) the authors describe the challenges users face when trying to make judgements about probabilistic data generated through samples. As an example, they look at a bar chart of four years of data (replicated below in Figure 1). Each year has a y-axis value, which is derived from a sample of a larger dataset. For instance, the first value might be the number votes in a given district or riding for 1992, with the average being around 33,000. On top of this is plotted the 95% confidence interval for the mean (see the boxplot lectures for more information, and the yerr parameter of barcharts).\n",
    "\n",
    "<br>\n",
    "<img src=\"readonly/Assignment3Fig1.png\" alt=\"Figure 1\" style=\"width: 400px;\"/>\n",
    "<h4 style=\"text-align: center;\" markdown=\"1\">  &nbsp;&nbsp;&nbsp;&nbsp;&nbsp;&nbsp;&nbsp;&nbsp;Figure 1 from (Ferreira et al, 2014).</h4>\n",
    "\n",
    "<br>\n",
    "\n",
    "A challenge that users face is that, for a given y-axis value (e.g. 42,000), it is difficult to know which x-axis values are most likely to be representative, because the confidence levels overlap and their distributions are different (the lengths of the confidence interval bars are unequal). One of the solutions the authors propose for this problem (Figure 2c) is to allow users to indicate the y-axis value of interest (e.g. 42,000) and then draw a horizontal line and color bars based on this value. So bars might be colored red if they are definitely above this value (given the confidence interval), blue if they are definitely below this value, or white if they contain this value.\n",
    "\n",
    "\n",
    "<br>\n",
    "<img src=\"readonly/Assignment3Fig2c.png\" alt=\"Figure 1\" style=\"width: 400px;\"/>\n",
    "<h4 style=\"text-align: center;\" markdown=\"1\">  Figure 2c from (Ferreira et al. 2014). Note that the colorbar legend at the bottom as well as the arrows are not required in the assignment descriptions below.</h4>\n",
    "\n",
    "<br>\n",
    "<br>\n",
    "\n",
    "**Easiest option:** Implement the bar coloring as described above - a color scale with only three colors, (e.g. blue, white, and red). Assume the user provides the y axis value of interest as a parameter or variable.\n",
    "\n",
    "\n",
    "**Harder option:** Implement the bar coloring as described in the paper, where the color of the bar is actually based on the amount of data covered (e.g. a gradient ranging from dark blue for the distribution being certainly below this y-axis, to white if the value is certainly contained, to dark red if the value is certainly not contained as the distribution is above the axis).\n",
    "\n",
    "**Even Harder option:** Add interactivity to the above, which allows the user to click on the y axis to set the value of interest. The bar colors should change with respect to what value the user has selected.\n",
    "\n",
    "**Hardest option:** Allow the user to interactively set a range of y values they are interested in, and recolor based on this (e.g. a y-axis band, see the paper for more details).\n",
    "\n",
    "---\n",
    "\n",
    "*Note: The data given for this assignment is not the same as the data used in the article and as a result the visualizations may look a little different.*"
   ]
  },
  {
   "cell_type": "code",
   "execution_count": 1,
   "metadata": {},
   "outputs": [
    {
     "data": {
      "text/plain": [
       "([<matplotlib.axis.XTick at 0x1a80f1abeb8>,\n",
       "  <matplotlib.axis.XTick at 0x1a80f1ab7f0>,\n",
       "  <matplotlib.axis.XTick at 0x1a80f1ab550>,\n",
       "  <matplotlib.axis.XTick at 0x1a80f12c828>],\n",
       " <a list of 4 Text xticklabel objects>)"
      ]
     },
     "execution_count": 1,
     "metadata": {},
     "output_type": "execute_result"
    },
    {
     "data": {
      "text/plain": [
       "<matplotlib.lines.Line2D at 0x1a80f3359b0>"
      ]
     },
     "execution_count": 1,
     "metadata": {},
     "output_type": "execute_result"
    },
    {
     "data": {
      "text/plain": [
       "Text(0.5,1,'Yearly data samples')"
      ]
     },
     "execution_count": 1,
     "metadata": {},
     "output_type": "execute_result"
    },
    {
     "data": {
      "text/plain": [
       "Text(0,35500,'axis val\\n35500')"
      ]
     },
     "execution_count": 1,
     "metadata": {},
     "output_type": "execute_result"
    },
    {
     "data": {
      "text/plain": [
       "Text(0,0.5,'Sample mean with 95% CI')"
      ]
     },
     "execution_count": 1,
     "metadata": {},
     "output_type": "execute_result"
    },
    {
     "data": {
      "text/plain": [
       "[<matplotlib.axis.XTick at 0x1a80f2a3438>,\n",
       " <matplotlib.axis.XTick at 0x1a80f12c9e8>,\n",
       " <matplotlib.axis.XTick at 0x1a80f189630>]"
      ]
     },
     "execution_count": 1,
     "metadata": {},
     "output_type": "execute_result"
    },
    {
     "data": {
      "text/plain": [
       "Text(0.5,0,'Probability of the y-axis value to be contained in the distributions')"
      ]
     },
     "execution_count": 1,
     "metadata": {},
     "output_type": "execute_result"
    },
    {
     "name": "stderr",
     "output_type": "stream",
     "text": [
      "C:\\Users\\redex\\Anaconda3\\lib\\site-packages\\matplotlib\\colorbar.py:217: UserWarning: Use the colorbar set_ticks() method instead.\n",
      "  warnings.warn(\"Use the colorbar set_ticks() method instead.\")\n"
     ]
    },
    {
     "data": {
      "text/plain": [
       "(None, <a list of 3 Text xticklabel objects>)"
      ]
     },
     "execution_count": 1,
     "metadata": {},
     "output_type": "execute_result"
    },
    {
     "data": {
      "image/png": "[encoded data removed]",
      "text/plain": [
       "<Figure size 576x504 with 2 Axes>"
      ]
     },
     "metadata": {},
     "output_type": "display_data"
    }
   ],
   "source": [
    "# Use the following data for this assignment:\n",
    "%matplotlib inline\n",
    "import pandas as pd\n",
    "import numpy as np\n",
    "import scipy.stats\n",
    "import matplotlib as mpl\n",
    "import matplotlib.pyplot as plt\n",
    "import matplotlib.transforms as transforms\n",
    "from matplotlib import cm\n",
    "from matplotlib import colors\n",
    "from matplotlib import gridspec\n",
    "from matplotlib.colors import LinearSegmentedColormap \n",
    "\n",
    "reds = cm.Reds\n",
    "blues = cm.Blues\n",
    "\n",
    "np.random.seed(12345)\n",
    "\n",
    "df = pd.DataFrame([np.random.normal(32000,200000,3650), \n",
    "                   np.random.normal(43000,100000,3650), \n",
    "                   np.random.normal(43500,140000,3650), \n",
    "                   np.random.normal(48000,70000,3650)], \n",
    "                  index=[1992,1993,1994,1995])\n",
    "\n",
    "means = []\n",
    "errmargins = []\n",
    "diffs = []\n",
    "signs = []\n",
    "shades = []\n",
    "\n",
    "y=35500\n",
    "\n",
    "for i in df.index:\n",
    "    n = len(df.loc[i])\n",
    "    m = np.mean(df.loc[i])\n",
    "    stderr = np.std(df.loc[i])/np.sqrt(n)\n",
    "    z = scipy.stats.t.ppf((1.95) / 2., n-1)\n",
    "    errmargin = z * stderr \n",
    "    cimin = m - errmargin\n",
    "    cimax = m + errmargin\n",
    "    #print('year {} -\\t{} \\t {} \\t {}'.format(i, cimin, m, cimax))\n",
    "    means.append(m)\n",
    "    errmargins.append(errmargin)\n",
    "    diff = 100 * (y-m)// 100\n",
    "    diffs.append(diff)\n",
    "    signs.append(np.abs(diff)/diff)\n",
    "\n",
    "    \n",
    "\n",
    "oldrange = np.abs(diffs).min(), np.abs(diffs).max()\n",
    "newrange = .4, 1\n",
    "shades=signs * np.interp(np.abs(diffs), oldrange, newrange)\n",
    "colours = ['white' if x==0 else reds(abs(x)) if x<0 else blues(abs(x)) for x in shades]\n",
    "cmap = LinearSegmentedColormap.from_list(name='customcmap', \n",
    "                                         colors =['#00306F', '#52AFD9', 'white', '#FF5D3B', '#710005'],\n",
    "                                         N=51)\n",
    "\n",
    "fig = plt.figure(figsize=(8,7))\n",
    "gs = gridspec.GridSpec(8, 1)\n",
    "ax1 = plt.subplot(gs[:7,0])\n",
    "ax1.tick_params(labelbottom=True)\n",
    "bars = ax1.bar(range(len(df.index)), means, yerr=errmargins, capsize=12, align='center', color=colours, edgecolor='lightgrey', alpha=0.8)\n",
    "plt.xticks(range(len(df.index)), df.index)\n",
    "plt.axhline(y=y, color='darkgreen', linestyle='--')\n",
    "plt.title('Yearly data samples')\n",
    "trans = transforms.blended_transform_factory(\n",
    "    ax1.get_yticklabels()[0].get_transform(), ax1.transData)\n",
    "ax1.text(0,y, \"axis val\\n{:.0f}\".format(y), color=\"darkgreen\", transform=trans, \n",
    "        ha=\"right\", va=\"center\")\n",
    "plt.ylabel('Sample mean with 95% CI', labelpad=15)\n",
    "idx=0\n",
    "for spine in plt.gca().spines.values():\n",
    "    if idx==1 or idx==3:\n",
    "        spine.set_visible(False)\n",
    "    idx += 1\n",
    "ax2 = plt.subplot(gs[7,0])\n",
    "norm = colors.Normalize(vmin=-1, vmax=1)\n",
    "cbar = mpl.colorbar.ColorbarBase(ax2,orientation='horizontal',cmap=cmap, alpha=0.8)\n",
    "ax2.xaxis.set_ticks(np.arange(0, 1., 0.4999))\n",
    "plt.xlabel('Probability of the y-axis value to be contained in the distributions', labelpad=15)\n",
    "plt.xticks(range(3), ['Distribution\\nbelow', 'Certainly\\ncontained', 'Distribution\\nabove'])\n",
    "gs.tight_layout(plt.gcf())\n",
    "fig.savefig('assignment3_ionut_daneasa.png', facecolor='white', edgecolor='none')\n",
    "\n",
    "\n",
    "\n"
   ]
  },
  {
   "cell_type": "code",
   "execution_count": null,
   "metadata": {
    "collapsed": true
   },
   "outputs": [],
   "source": []
  }
 ],
 "metadata": {
  "kernelspec": {
   "display_name": "Python 3",
   "language": "python",
   "name": "python3"
  },
  "language_info": {
   "codemirror_mode": {
    "name": "ipython",
    "version": 3
   },
   "file_extension": ".py",
   "mimetype": "text/x-python",
   "name": "python",
   "nbconvert_exporter": "python",
   "pygments_lexer": "ipython3",
   "version": "3.6.5"
  }
 },
 "nbformat": 4,
 "nbformat_minor": 2
}
