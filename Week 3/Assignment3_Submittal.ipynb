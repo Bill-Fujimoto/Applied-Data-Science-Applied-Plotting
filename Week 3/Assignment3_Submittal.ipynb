{
 "cells": [
  {
   "cell_type": "code",
   "execution_count": 1,
   "metadata": {},
   "outputs": [],
   "source": [
    "# Use the following data for this assignment:\n",
    "%matplotlib notebook\n",
    "import pandas as pd\n",
    "import numpy as np\n",
    "import matplotlib.pyplot as plt\n",
    "import math\n",
    "import scipy.stats as st\n",
    "\n",
    "np.random.seed(12345)\n",
    "\n",
    "#df = pd.DataFrame([np.random.normal(32000,200000,3650), \n",
    "#                   np.random.normal(43000,100000,3650), \n",
    "#                   np.random.normal(43500,140000,3650), \n",
    "#                   np.random.normal(48000,70000,3650)], \n",
    "#                  index=[1992,1993,1994,1995])\n",
    "#df=df.transpose()  # Years as column headers\n",
    "\n",
    "#This is my preferred method, get the same results as above including transpose\n",
    "num_samp = 3650\n",
    "df = pd.DataFrame({'1992':np.random.normal(32000,200000,num_samp), \n",
    "                   '1993':np.random.normal(43000,100000,num_samp), \n",
    "                   '1994':np.random.normal(43500,140000,num_samp), \n",
    "                   '1995':np.random.normal(48000,70000,num_samp)})"
   ]
  },
  {
   "cell_type": "code",
   "execution_count": 2,
   "metadata": {},
   "outputs": [],
   "source": [
    "values = df.mean()\n",
    "std = df.std()\n",
    "std_err = std/(math.sqrt(num_samp))\n",
    "z_score = abs(st.norm.ppf((1-.95)/2)) # ~1.96 for 95% confidence interval\n",
    "margin_err = std_err*z_score\n",
    "#z_score\n",
    "#values[3]\n",
    "#std_err\n",
    "#margin_err\n",
    "#list(enumerate(values))"
   ]
  },
  {
   "cell_type": "code",
   "execution_count": 1,
   "metadata": {
    "scrolled": false
   },
   "outputs": [
    {
     "ename": "NameError",
     "evalue": "name 'plt' is not defined",
     "output_type": "error",
     "traceback": [
      "\u001b[1;31m---------------------------------------------------------------------------\u001b[0m",
      "\u001b[1;31mNameError\u001b[0m                                 Traceback (most recent call last)",
      "\u001b[1;32m<ipython-input-1-caee445f614c>\u001b[0m in \u001b[0;36m<module>\u001b[1;34m()\u001b[0m\n\u001b[0;32m      1\u001b[0m \u001b[1;32mimport\u001b[0m \u001b[0mmatplotlib\u001b[0m\u001b[1;33m.\u001b[0m\u001b[0manimation\u001b[0m \u001b[1;32mas\u001b[0m \u001b[0manimation\u001b[0m\u001b[1;33m\u001b[0m\u001b[0m\n\u001b[0;32m      2\u001b[0m \u001b[1;33m\u001b[0m\u001b[0m\n\u001b[1;32m----> 3\u001b[1;33m \u001b[0mfig\u001b[0m \u001b[1;33m=\u001b[0m \u001b[0mplt\u001b[0m\u001b[1;33m.\u001b[0m\u001b[0mfigure\u001b[0m\u001b[1;33m(\u001b[0m\u001b[1;33m)\u001b[0m\u001b[1;33m\u001b[0m\u001b[0m\n\u001b[0m\u001b[0;32m      4\u001b[0m \u001b[0mplt\u001b[0m\u001b[1;33m.\u001b[0m\u001b[0mplot\u001b[0m\u001b[1;33m(\u001b[0m\u001b[1;33m)\u001b[0m\u001b[1;33m\u001b[0m\u001b[0m\n\u001b[0;32m      5\u001b[0m \u001b[1;33m\u001b[0m\u001b[0m\n",
      "\u001b[1;31mNameError\u001b[0m: name 'plt' is not defined"
     ]
    }
   ],
   "source": [
    "import matplotlib.animation as animation\n",
    "\n",
    "fig = plt.figure()\n",
    "plt.plot()\n",
    "\n",
    "# xvalues for bar plots\n",
    "# [Debug note: Coursera Jupyter older version requires numerical for x-axis values, \n",
    "# newer version can use text or string mapped to x-ticks which have 0 index]\n",
    "xvals = df.columns.astype(int)\n",
    "\n",
    "# Number of animated iterations\n",
    "n = 30  \n",
    " \n",
    "# Create range of Y values for the horizontal line to scan\n",
    "df_min_sub = math.floor(df.mean().min())-8000\n",
    "df_max_sup = math.floor(df.mean().max())+5000\n",
    "y_line = [x for x in range(df_min_sub, df_max_sup, math.floor((df_max_sup - df_min_sub)/(n-1)))]\n",
    "#y_line\n",
    "#xvals"
   ]
  },
  {
   "cell_type": "code",
   "execution_count": 2,
   "metadata": {},
   "outputs": [],
   "source": [
    "# create the function that will do the plotting, where curr is the current frame\n",
    "def update(curr):\n",
    "    # check if animation is at the last frame, and if so, stop the animation a\n",
    "    if curr == n: \n",
    "        a.event_source.stop()    \n",
    "    \n",
    "    # Determine bar colors based on Y line parameter\n",
    "    colors = []\n",
    "    alpha = []\n",
    "    for i in range(len(xvals)):\n",
    "        if y_line[curr] > (values[i] + margin_err[i]):\n",
    "            colors.append('#0066CC') # Blue\n",
    "            alpha.append(1)\n",
    "        elif (y_line[curr] >= (values[i] - margin_err[i])) \\\n",
    "                & (y_line[curr] <= (values[i] + margin_err[i])):\n",
    "            colors.append('#66ff66') # Green\n",
    "            alpha.append(.4)\n",
    "        elif y_line[curr] < (values[i] - margin_err[i]):\n",
    "            colors.append('#990000') # Red\n",
    "            alpha.append(1)\n",
    "            \n",
    "    ax = plt.gca()\n",
    "    # Clear axes\n",
    "    ax.cla()\n",
    "    #ax.set_yticks([])\n",
    "    ax.set_xlabel('Year')\n",
    "    ax.set_ylabel('Sample Mean and 95% CI')\n",
    "    ax.set_title('Random Data Exercise')\n",
    "    \n",
    "    # Plot mean values on bar top\n",
    "    for i, v in enumerate(values):\n",
    "        plt.text(xvals[i]-.25, v-2100 , str(math.floor(v)), color='white', fontweight='bold')\n",
    "    \n",
    "    # Plot updated bar and Y line            \n",
    "    w = .75\n",
    "    c = 12\n",
    "    plt.bar(xvals[0], values[0], width = w, color=colors[0], \n",
    "            alpha = alpha[0], yerr=margin_err[0], capsize=c)\n",
    "    plt.bar(xvals[1], values[1], width = w, color=colors[1], \n",
    "            alpha = alpha[1], yerr=margin_err[1], capsize=c)\n",
    "    plt.bar(xvals[2], values[2], width = w, color=colors[2], \n",
    "            alpha = alpha[2], yerr=margin_err[2], capsize=c)\n",
    "    plt.bar(xvals[3], values[3], width = w, color=colors[3], \n",
    "            alpha = alpha[3], yerr=margin_err[3], capsize=c)   \n",
    "    \n",
    "    # Plot horizontal line for animation scrolling\n",
    "    plt.axhline(y=y_line[curr], linestyle='--', color = 'orange')\n",
    "    \n",
    "    # Print loop status notation (n and Y-line value)\n",
    "    plt.annotate('n = {}, Y-line = {}'.format(curr, y_line[curr]), \n",
    "                 [xvals[0], math.floor(df.mean().max())+2500])"
   ]
  },
  {
   "cell_type": "code",
   "execution_count": 8,
   "metadata": {},
   "outputs": [],
   "source": [
    "a = animation.FuncAnimation(fig, update, interval = 500)"
   ]
  },
  {
   "cell_type": "code",
   "execution_count": 9,
   "metadata": {},
   "outputs": [],
   "source": [
    "plt.savefig('RandSamp_CI.png', padd_inches=0.5, bbox_inches='tight')"
   ]
  },
  {
   "cell_type": "code",
   "execution_count": null,
   "metadata": {},
   "outputs": [],
   "source": []
  }
 ],
 "metadata": {
  "kernelspec": {
   "display_name": "Python 3",
   "language": "python",
   "name": "python3"
  },
  "language_info": {
   "codemirror_mode": {
    "name": "ipython",
    "version": 3
   },
   "file_extension": ".py",
   "mimetype": "text/x-python",
   "name": "python",
   "nbconvert_exporter": "python",
   "pygments_lexer": "ipython3",
   "version": "3.6.5"
  }
 },
 "nbformat": 4,
 "nbformat_minor": 2
}
